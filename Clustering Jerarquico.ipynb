{
 "cells": [
  {
   "cell_type": "markdown",
   "id": "124b525f",
   "metadata": {},
   "source": [
    "# Clustering Jerarquico"
   ]
  },
  {
   "cell_type": "code",
   "execution_count": 1,
   "id": "338a1ca5",
   "metadata": {},
   "outputs": [],
   "source": [
    "import numpy as np\n",
    "import pandas as pd\n",
    "import matplotlib.pyplot as plt\n",
    "\n",
    "import scipy.cluster.hierarchy as sch\n",
    "from scipy.cluster.hierarchy import dendrogram, linkage, fcluster\n",
    "\n",
    "%matplotlib inline"
   ]
  },
  {
   "cell_type": "markdown",
   "id": "769c4242",
   "metadata": {},
   "source": [
    "Importando los datos"
   ]
  },
  {
   "cell_type": "code",
   "execution_count": 2,
   "id": "c923fe13",
   "metadata": {},
   "outputs": [],
   "source": [
    "Estudiantes=pd.read_csv('C:/Users/Camila Saenz/Downloads/TAREAS/Clustering Jerarquico/Ejemplo Estudiantes.csv',engine='python', index_col=0)"
   ]
  },
  {
   "cell_type": "markdown",
   "id": "6aeaecd3",
   "metadata": {},
   "source": [
    "VEmos el tipo de varibales que contiene el objeto Estudiantes"
   ]
  },
  {
   "cell_type": "code",
   "execution_count": 3,
   "id": "ccc1ddd5",
   "metadata": {},
   "outputs": [
    {
     "name": "stdout",
     "output_type": "stream",
     "text": [
      "<class 'pandas.core.frame.DataFrame'>\n",
      "Index: 10 entries, Lucia to Maria\n",
      "Data columns (total 5 columns):\n",
      " #   Column       Non-Null Count  Dtype  \n",
      "---  ------       --------------  -----  \n",
      " 0   Matematicas  10 non-null     float64\n",
      " 1   Ciencias     10 non-null     float64\n",
      " 2   Espanol      10 non-null     float64\n",
      " 3   Historia     10 non-null     float64\n",
      " 4   Deportes     10 non-null     float64\n",
      "dtypes: float64(5)\n",
      "memory usage: 480.0+ bytes\n"
     ]
    }
   ],
   "source": [
    "Estudiantes.info()"
   ]
  },
  {
   "cell_type": "markdown",
   "id": "e40aa349",
   "metadata": {},
   "source": [
    "Desplegamos las primeras filas de Estudiantes"
   ]
  },
  {
   "cell_type": "code",
   "execution_count": 4,
   "id": "4b13e160",
   "metadata": {},
   "outputs": [
    {
     "data": {
      "text/html": [
       "<div>\n",
       "<style scoped>\n",
       "    .dataframe tbody tr th:only-of-type {\n",
       "        vertical-align: middle;\n",
       "    }\n",
       "\n",
       "    .dataframe tbody tr th {\n",
       "        vertical-align: top;\n",
       "    }\n",
       "\n",
       "    .dataframe thead th {\n",
       "        text-align: right;\n",
       "    }\n",
       "</style>\n",
       "<table border=\"1\" class=\"dataframe\">\n",
       "  <thead>\n",
       "    <tr style=\"text-align: right;\">\n",
       "      <th></th>\n",
       "      <th>Matematicas</th>\n",
       "      <th>Ciencias</th>\n",
       "      <th>Espanol</th>\n",
       "      <th>Historia</th>\n",
       "      <th>Deportes</th>\n",
       "    </tr>\n",
       "    <tr>\n",
       "      <th>Estudiante</th>\n",
       "      <th></th>\n",
       "      <th></th>\n",
       "      <th></th>\n",
       "      <th></th>\n",
       "      <th></th>\n",
       "    </tr>\n",
       "  </thead>\n",
       "  <tbody>\n",
       "    <tr>\n",
       "      <th>Lucia</th>\n",
       "      <td>7.0</td>\n",
       "      <td>6.5</td>\n",
       "      <td>9.2</td>\n",
       "      <td>8.6</td>\n",
       "      <td>8.0</td>\n",
       "    </tr>\n",
       "    <tr>\n",
       "      <th>Pedro</th>\n",
       "      <td>7.5</td>\n",
       "      <td>9.4</td>\n",
       "      <td>7.3</td>\n",
       "      <td>7.0</td>\n",
       "      <td>7.0</td>\n",
       "    </tr>\n",
       "    <tr>\n",
       "      <th>Ines</th>\n",
       "      <td>7.6</td>\n",
       "      <td>9.2</td>\n",
       "      <td>8.0</td>\n",
       "      <td>8.0</td>\n",
       "      <td>7.5</td>\n",
       "    </tr>\n",
       "    <tr>\n",
       "      <th>Luis</th>\n",
       "      <td>5.0</td>\n",
       "      <td>6.5</td>\n",
       "      <td>6.5</td>\n",
       "      <td>7.0</td>\n",
       "      <td>9.0</td>\n",
       "    </tr>\n",
       "    <tr>\n",
       "      <th>Andres</th>\n",
       "      <td>6.0</td>\n",
       "      <td>6.0</td>\n",
       "      <td>7.8</td>\n",
       "      <td>8.9</td>\n",
       "      <td>7.3</td>\n",
       "    </tr>\n",
       "  </tbody>\n",
       "</table>\n",
       "</div>"
      ],
      "text/plain": [
       "            Matematicas  Ciencias  Espanol  Historia  Deportes\n",
       "Estudiante                                                    \n",
       "Lucia               7.0       6.5      9.2       8.6       8.0\n",
       "Pedro               7.5       9.4      7.3       7.0       7.0\n",
       "Ines                7.6       9.2      8.0       8.0       7.5\n",
       "Luis                5.0       6.5      6.5       7.0       9.0\n",
       "Andres              6.0       6.0      7.8       8.9       7.3"
      ]
     },
     "execution_count": 4,
     "metadata": {},
     "output_type": "execute_result"
    }
   ],
   "source": [
    "Estudiantes.head()"
   ]
  },
  {
   "cell_type": "markdown",
   "id": "8a02f454",
   "metadata": {},
   "source": [
    "Obtenemos los valores de las calificaciones para llevar a cabo el análisis de datos"
   ]
  },
  {
   "cell_type": "code",
   "execution_count": 7,
   "id": "ecea5078",
   "metadata": {},
   "outputs": [
    {
     "data": {
      "text/plain": [
       "array([[7. , 6.5, 9.2, 8.6, 8. ],\n",
       "       [7.5, 9.4, 7.3, 7. , 7. ],\n",
       "       [7.6, 9.2, 8. , 8. , 7.5],\n",
       "       [5. , 6.5, 6.5, 7. , 9. ],\n",
       "       [6. , 6. , 7.8, 8.9, 7.3],\n",
       "       [7.8, 9.6, 7.7, 8. , 6.5],\n",
       "       [6.3, 6.4, 8.2, 9. , 7.2],\n",
       "       [7.9, 9.7, 7.5, 8. , 6. ],\n",
       "       [6. , 6. , 6.5, 5.5, 8.7],\n",
       "       [6.8, 7.2, 8.7, 9. , 7. ]])"
      ]
     },
     "execution_count": 7,
     "metadata": {},
     "output_type": "execute_result"
    }
   ],
   "source": [
    "Calificaciones = Estudiantes.iloc[:, [0,1,2,3,4]].values\n",
    "Calificaciones"
   ]
  },
  {
   "cell_type": "markdown",
   "id": "9eff191b",
   "metadata": {},
   "source": [
    "Creando el dendograma del clustering jerarquico"
   ]
  },
  {
   "cell_type": "code",
   "execution_count": 8,
   "id": "f60e5ce2",
   "metadata": {},
   "outputs": [],
   "source": [
    "Clustering_Jerarquico = linkage(Calificaciones, 'ward')"
   ]
  },
  {
   "cell_type": "code",
   "execution_count": 9,
   "id": "6f803583",
   "metadata": {},
   "outputs": [
    {
     "data": {
      "image/png": "[encoded data removed]",
      "text/plain": [
       "<Figure size 432x288 with 1 Axes>"
      ]
     },
     "metadata": {
      "needs_background": "light"
     },
     "output_type": "display_data"
    }
   ],
   "source": [
    "dendrograma=sch.dendrogram(Clustering_Jerarquico)"
   ]
  },
  {
   "cell_type": "markdown",
   "id": "049a6658",
   "metadata": {},
   "source": [
    "Asignando los Clusters a cada estudiante"
   ]
  },
  {
   "cell_type": "code",
   "execution_count": 10,
   "id": "4d110a6d",
   "metadata": {},
   "outputs": [],
   "source": [
    "clusters = fcluster(Clustering_Jerarquico, t=2, criterion='distance')"
   ]
  },
  {
   "cell_type": "code",
   "execution_count": 11,
   "id": "251cebd2",
   "metadata": {},
   "outputs": [
    {
     "data": {
      "text/plain": [
       "array([3, 1, 1, 2, 3, 1, 3, 1, 2, 3], dtype=int32)"
      ]
     },
     "execution_count": 11,
     "metadata": {},
     "output_type": "execute_result"
    }
   ],
   "source": [
    "clusters"
   ]
  },
  {
   "cell_type": "code",
   "execution_count": 12,
   "id": "9de5367e",
   "metadata": {},
   "outputs": [
    {
     "data": {
      "text/html": [
       "<div>\n",
       "<style scoped>\n",
       "    .dataframe tbody tr th:only-of-type {\n",
       "        vertical-align: middle;\n",
       "    }\n",
       "\n",
       "    .dataframe tbody tr th {\n",
       "        vertical-align: top;\n",
       "    }\n",
       "\n",
       "    .dataframe thead th {\n",
       "        text-align: right;\n",
       "    }\n",
       "</style>\n",
       "<table border=\"1\" class=\"dataframe\">\n",
       "  <thead>\n",
       "    <tr style=\"text-align: right;\">\n",
       "      <th></th>\n",
       "      <th>Matematicas</th>\n",
       "      <th>Ciencias</th>\n",
       "      <th>Espanol</th>\n",
       "      <th>Historia</th>\n",
       "      <th>Deportes</th>\n",
       "      <th>Clustering Jerarquico</th>\n",
       "    </tr>\n",
       "    <tr>\n",
       "      <th>Estudiante</th>\n",
       "      <th></th>\n",
       "      <th></th>\n",
       "      <th></th>\n",
       "      <th></th>\n",
       "      <th></th>\n",
       "      <th></th>\n",
       "    </tr>\n",
       "  </thead>\n",
       "  <tbody>\n",
       "    <tr>\n",
       "      <th>Lucia</th>\n",
       "      <td>7.0</td>\n",
       "      <td>6.5</td>\n",
       "      <td>9.2</td>\n",
       "      <td>8.6</td>\n",
       "      <td>8.0</td>\n",
       "      <td>3</td>\n",
       "    </tr>\n",
       "    <tr>\n",
       "      <th>Pedro</th>\n",
       "      <td>7.5</td>\n",
       "      <td>9.4</td>\n",
       "      <td>7.3</td>\n",
       "      <td>7.0</td>\n",
       "      <td>7.0</td>\n",
       "      <td>1</td>\n",
       "    </tr>\n",
       "    <tr>\n",
       "      <th>Ines</th>\n",
       "      <td>7.6</td>\n",
       "      <td>9.2</td>\n",
       "      <td>8.0</td>\n",
       "      <td>8.0</td>\n",
       "      <td>7.5</td>\n",
       "      <td>1</td>\n",
       "    </tr>\n",
       "    <tr>\n",
       "      <th>Luis</th>\n",
       "      <td>5.0</td>\n",
       "      <td>6.5</td>\n",
       "      <td>6.5</td>\n",
       "      <td>7.0</td>\n",
       "      <td>9.0</td>\n",
       "      <td>2</td>\n",
       "    </tr>\n",
       "    <tr>\n",
       "      <th>Andres</th>\n",
       "      <td>6.0</td>\n",
       "      <td>6.0</td>\n",
       "      <td>7.8</td>\n",
       "      <td>8.9</td>\n",
       "      <td>7.3</td>\n",
       "      <td>3</td>\n",
       "    </tr>\n",
       "    <tr>\n",
       "      <th>Ana</th>\n",
       "      <td>7.8</td>\n",
       "      <td>9.6</td>\n",
       "      <td>7.7</td>\n",
       "      <td>8.0</td>\n",
       "      <td>6.5</td>\n",
       "      <td>1</td>\n",
       "    </tr>\n",
       "    <tr>\n",
       "      <th>Carlos</th>\n",
       "      <td>6.3</td>\n",
       "      <td>6.4</td>\n",
       "      <td>8.2</td>\n",
       "      <td>9.0</td>\n",
       "      <td>7.2</td>\n",
       "      <td>3</td>\n",
       "    </tr>\n",
       "    <tr>\n",
       "      <th>Jose</th>\n",
       "      <td>7.9</td>\n",
       "      <td>9.7</td>\n",
       "      <td>7.5</td>\n",
       "      <td>8.0</td>\n",
       "      <td>6.0</td>\n",
       "      <td>1</td>\n",
       "    </tr>\n",
       "    <tr>\n",
       "      <th>Sonia</th>\n",
       "      <td>6.0</td>\n",
       "      <td>6.0</td>\n",
       "      <td>6.5</td>\n",
       "      <td>5.5</td>\n",
       "      <td>8.7</td>\n",
       "      <td>2</td>\n",
       "    </tr>\n",
       "    <tr>\n",
       "      <th>Maria</th>\n",
       "      <td>6.8</td>\n",
       "      <td>7.2</td>\n",
       "      <td>8.7</td>\n",
       "      <td>9.0</td>\n",
       "      <td>7.0</td>\n",
       "      <td>3</td>\n",
       "    </tr>\n",
       "  </tbody>\n",
       "</table>\n",
       "</div>"
      ],
      "text/plain": [
       "            Matematicas  Ciencias  Espanol  Historia  Deportes  \\\n",
       "Estudiante                                                       \n",
       "Lucia               7.0       6.5      9.2       8.6       8.0   \n",
       "Pedro               7.5       9.4      7.3       7.0       7.0   \n",
       "Ines                7.6       9.2      8.0       8.0       7.5   \n",
       "Luis                5.0       6.5      6.5       7.0       9.0   \n",
       "Andres              6.0       6.0      7.8       8.9       7.3   \n",
       "Ana                 7.8       9.6      7.7       8.0       6.5   \n",
       "Carlos              6.3       6.4      8.2       9.0       7.2   \n",
       "Jose                7.9       9.7      7.5       8.0       6.0   \n",
       "Sonia               6.0       6.0      6.5       5.5       8.7   \n",
       "Maria               6.8       7.2      8.7       9.0       7.0   \n",
       "\n",
       "            Clustering Jerarquico  \n",
       "Estudiante                         \n",
       "Lucia                           3  \n",
       "Pedro                           1  \n",
       "Ines                            1  \n",
       "Luis                            2  \n",
       "Andres                          3  \n",
       "Ana                             1  \n",
       "Carlos                          3  \n",
       "Jose                            1  \n",
       "Sonia                           2  \n",
       "Maria                           3  "
      ]
     },
     "execution_count": 12,
     "metadata": {},
     "output_type": "execute_result"
    }
   ],
   "source": [
    "Estudiantes['Clustering Jerarquico'] = clusters\n",
    "Estudiantes"
   ]
  },
  {
   "cell_type": "markdown",
   "id": "590caa0d",
   "metadata": {},
   "source": [
    "Guardando en el disco duro"
   ]
  },
  {
   "cell_type": "code",
   "execution_count": 13,
   "id": "2122ae5f",
   "metadata": {},
   "outputs": [],
   "source": [
    "Estudiantes.to_csv('C:/Users/Camila Saenz/Downloads/TAREAS/Clustering Jerarquico/Estudiantes Clustering Jerarquico.csv')"
   ]
  },
  {
   "cell_type": "code",
   "execution_count": null,
   "id": "877047d1",
   "metadata": {},
   "outputs": [],
   "source": []
  }
 ],
 "metadata": {
  "kernelspec": {
   "display_name": "Python 3 (ipykernel)",
   "language": "python",
   "name": "python3"
  },
  "language_info": {
   "codemirror_mode": {
    "name": "ipython",
    "version": 3
   },
   "file_extension": ".py",
   "mimetype": "text/x-python",
   "name": "python",
   "nbconvert_exporter": "python",
   "pygments_lexer": "ipython3",
   "version": "3.9.7"
  }
 },
 "nbformat": 4,
 "nbformat_minor": 5
}
