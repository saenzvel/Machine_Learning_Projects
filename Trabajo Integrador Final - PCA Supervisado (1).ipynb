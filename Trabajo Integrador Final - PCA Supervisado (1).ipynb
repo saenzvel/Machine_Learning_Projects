{
 "cells": [
  {
   "cell_type": "markdown",
   "id": "e11048f9",
   "metadata": {},
   "source": [
    "# Trabajo Dimensionality Reduction Supervised"
   ]
  },
  {
   "cell_type": "code",
   "execution_count": 139,
   "id": "7f2c066b",
   "metadata": {},
   "outputs": [
    {
     "data": {
      "text/html": [
       "<div>\n",
       "<style scoped>\n",
       "    .dataframe tbody tr th:only-of-type {\n",
       "        vertical-align: middle;\n",
       "    }\n",
       "\n",
       "    .dataframe tbody tr th {\n",
       "        vertical-align: top;\n",
       "    }\n",
       "\n",
       "    .dataframe thead th {\n",
       "        text-align: right;\n",
       "    }\n",
       "</style>\n",
       "<table border=\"1\" class=\"dataframe\">\n",
       "  <thead>\n",
       "    <tr style=\"text-align: right;\">\n",
       "      <th></th>\n",
       "      <th>Impactado</th>\n",
       "      <th>Saldo</th>\n",
       "      <th>Desembolso_mes</th>\n",
       "      <th>Saldo Promedio</th>\n",
       "      <th>Deuda Sistea</th>\n",
       "      <th>Pasivo</th>\n",
       "      <th>Turismo</th>\n",
       "      <th>Sector de Impacto</th>\n",
       "      <th>Venta</th>\n",
       "      <th>Venta Formal</th>\n",
       "      <th>Pasivo_desembolso</th>\n",
       "      <th>Deuda rezagada va</th>\n",
       "      <th>Deuda rezagada vr</th>\n",
       "      <th>pasivo rezagada va</th>\n",
       "      <th>pasivo rezagada vr</th>\n",
       "      <th>Pasivo_desembolso da</th>\n",
       "      <th>Pasivo_desembolso dr</th>\n",
       "    </tr>\n",
       "  </thead>\n",
       "  <tbody>\n",
       "    <tr>\n",
       "      <th>0</th>\n",
       "      <td>0</td>\n",
       "      <td>56643.10092</td>\n",
       "      <td>0.0</td>\n",
       "      <td>28321.55046</td>\n",
       "      <td>31365.73</td>\n",
       "      <td>5876.82</td>\n",
       "      <td>0</td>\n",
       "      <td>3</td>\n",
       "      <td>108400.0</td>\n",
       "      <td>43741.08</td>\n",
       "      <td>5876.82</td>\n",
       "      <td>-800.65</td>\n",
       "      <td>-0.024891</td>\n",
       "      <td>830.82</td>\n",
       "      <td>0.164649</td>\n",
       "      <td>830.82</td>\n",
       "      <td>0.164649</td>\n",
       "    </tr>\n",
       "    <tr>\n",
       "      <th>1</th>\n",
       "      <td>0</td>\n",
       "      <td>190313.99460</td>\n",
       "      <td>0.0</td>\n",
       "      <td>63437.99818</td>\n",
       "      <td>64864.99</td>\n",
       "      <td>4467.40</td>\n",
       "      <td>0</td>\n",
       "      <td>4</td>\n",
       "      <td>105300.0</td>\n",
       "      <td>69737.17</td>\n",
       "      <td>4467.40</td>\n",
       "      <td>-2810.52</td>\n",
       "      <td>-0.041529</td>\n",
       "      <td>-7043.43</td>\n",
       "      <td>-0.611896</td>\n",
       "      <td>-7043.43</td>\n",
       "      <td>-0.611896</td>\n",
       "    </tr>\n",
       "    <tr>\n",
       "      <th>2</th>\n",
       "      <td>0</td>\n",
       "      <td>547601.57360</td>\n",
       "      <td>0.0</td>\n",
       "      <td>182533.85790</td>\n",
       "      <td>200239.32</td>\n",
       "      <td>5000.92</td>\n",
       "      <td>0</td>\n",
       "      <td>1</td>\n",
       "      <td>86600.0</td>\n",
       "      <td>79178.83</td>\n",
       "      <td>5000.92</td>\n",
       "      <td>653.68</td>\n",
       "      <td>0.003275</td>\n",
       "      <td>2000.92</td>\n",
       "      <td>0.666973</td>\n",
       "      <td>2000.92</td>\n",
       "      <td>0.666973</td>\n",
       "    </tr>\n",
       "    <tr>\n",
       "      <th>3</th>\n",
       "      <td>0</td>\n",
       "      <td>283914.20840</td>\n",
       "      <td>0.0</td>\n",
       "      <td>94638.06947</td>\n",
       "      <td>112945.17</td>\n",
       "      <td>325.50</td>\n",
       "      <td>0</td>\n",
       "      <td>3</td>\n",
       "      <td>103000.0</td>\n",
       "      <td>0.00</td>\n",
       "      <td>325.50</td>\n",
       "      <td>14820.77</td>\n",
       "      <td>0.151041</td>\n",
       "      <td>-17128.30</td>\n",
       "      <td>-0.981351</td>\n",
       "      <td>-17128.30</td>\n",
       "      <td>-0.981351</td>\n",
       "    </tr>\n",
       "    <tr>\n",
       "      <th>4</th>\n",
       "      <td>0</td>\n",
       "      <td>142296.43840</td>\n",
       "      <td>0.0</td>\n",
       "      <td>47432.14612</td>\n",
       "      <td>144877.21</td>\n",
       "      <td>0.00</td>\n",
       "      <td>0</td>\n",
       "      <td>4</td>\n",
       "      <td>172920.0</td>\n",
       "      <td>171999.33</td>\n",
       "      <td>0.00</td>\n",
       "      <td>17468.60</td>\n",
       "      <td>0.137107</td>\n",
       "      <td>-2071.80</td>\n",
       "      <td>-1.000000</td>\n",
       "      <td>-2071.80</td>\n",
       "      <td>-1.000000</td>\n",
       "    </tr>\n",
       "    <tr>\n",
       "      <th>5</th>\n",
       "      <td>0</td>\n",
       "      <td>456005.09530</td>\n",
       "      <td>0.0</td>\n",
       "      <td>152001.69840</td>\n",
       "      <td>136066.81</td>\n",
       "      <td>0.07</td>\n",
       "      <td>0</td>\n",
       "      <td>1</td>\n",
       "      <td>188660.0</td>\n",
       "      <td>0.00</td>\n",
       "      <td>0.07</td>\n",
       "      <td>-6302.57</td>\n",
       "      <td>-0.044269</td>\n",
       "      <td>0.00</td>\n",
       "      <td>0.000000</td>\n",
       "      <td>0.00</td>\n",
       "      <td>0.000000</td>\n",
       "    </tr>\n",
       "    <tr>\n",
       "      <th>6</th>\n",
       "      <td>0</td>\n",
       "      <td>76984.28362</td>\n",
       "      <td>0.0</td>\n",
       "      <td>25661.42787</td>\n",
       "      <td>66740.43</td>\n",
       "      <td>7650.64</td>\n",
       "      <td>0</td>\n",
       "      <td>1</td>\n",
       "      <td>22055.0</td>\n",
       "      <td>5000.00</td>\n",
       "      <td>7650.64</td>\n",
       "      <td>-5973.05</td>\n",
       "      <td>-0.082145</td>\n",
       "      <td>248.61</td>\n",
       "      <td>0.033587</td>\n",
       "      <td>248.61</td>\n",
       "      <td>0.033587</td>\n",
       "    </tr>\n",
       "    <tr>\n",
       "      <th>7</th>\n",
       "      <td>0</td>\n",
       "      <td>235218.90890</td>\n",
       "      <td>0.0</td>\n",
       "      <td>78406.30297</td>\n",
       "      <td>75528.86</td>\n",
       "      <td>116242.11</td>\n",
       "      <td>0</td>\n",
       "      <td>3</td>\n",
       "      <td>97400.0</td>\n",
       "      <td>5977.67</td>\n",
       "      <td>116242.11</td>\n",
       "      <td>1442.01</td>\n",
       "      <td>0.019464</td>\n",
       "      <td>-96110.34</td>\n",
       "      <td>-0.452598</td>\n",
       "      <td>-96110.34</td>\n",
       "      <td>-0.452598</td>\n",
       "    </tr>\n",
       "    <tr>\n",
       "      <th>8</th>\n",
       "      <td>0</td>\n",
       "      <td>531200.54440</td>\n",
       "      <td>0.0</td>\n",
       "      <td>177066.84810</td>\n",
       "      <td>177393.15</td>\n",
       "      <td>0.00</td>\n",
       "      <td>0</td>\n",
       "      <td>4</td>\n",
       "      <td>441000.0</td>\n",
       "      <td>32673.33</td>\n",
       "      <td>0.00</td>\n",
       "      <td>-73855.46</td>\n",
       "      <td>-0.293954</td>\n",
       "      <td>-55000.00</td>\n",
       "      <td>-1.000000</td>\n",
       "      <td>-55000.00</td>\n",
       "      <td>-1.000000</td>\n",
       "    </tr>\n",
       "    <tr>\n",
       "      <th>9</th>\n",
       "      <td>0</td>\n",
       "      <td>138737.75300</td>\n",
       "      <td>0.0</td>\n",
       "      <td>46245.91766</td>\n",
       "      <td>47034.40</td>\n",
       "      <td>688.55</td>\n",
       "      <td>0</td>\n",
       "      <td>3</td>\n",
       "      <td>105000.0</td>\n",
       "      <td>0.00</td>\n",
       "      <td>688.55</td>\n",
       "      <td>-2250.13</td>\n",
       "      <td>-0.045656</td>\n",
       "      <td>-81172.46</td>\n",
       "      <td>-0.991589</td>\n",
       "      <td>-81172.46</td>\n",
       "      <td>-0.991589</td>\n",
       "    </tr>\n",
       "  </tbody>\n",
       "</table>\n",
       "</div>"
      ],
      "text/plain": [
       "   Impactado         Saldo  Desembolso_mes  Saldo Promedio  Deuda Sistea  \\\n",
       "0          0   56643.10092             0.0     28321.55046      31365.73   \n",
       "1          0  190313.99460             0.0     63437.99818      64864.99   \n",
       "2          0  547601.57360             0.0    182533.85790     200239.32   \n",
       "3          0  283914.20840             0.0     94638.06947     112945.17   \n",
       "4          0  142296.43840             0.0     47432.14612     144877.21   \n",
       "5          0  456005.09530             0.0    152001.69840     136066.81   \n",
       "6          0   76984.28362             0.0     25661.42787      66740.43   \n",
       "7          0  235218.90890             0.0     78406.30297      75528.86   \n",
       "8          0  531200.54440             0.0    177066.84810     177393.15   \n",
       "9          0  138737.75300             0.0     46245.91766      47034.40   \n",
       "\n",
       "      Pasivo  Turismo  Sector de Impacto    Venta   Venta Formal  \\\n",
       "0    5876.82        0                  3  108400.0      43741.08   \n",
       "1    4467.40        0                  4  105300.0      69737.17   \n",
       "2    5000.92        0                  1   86600.0      79178.83   \n",
       "3     325.50        0                  3  103000.0          0.00   \n",
       "4       0.00        0                  4  172920.0     171999.33   \n",
       "5       0.07        0                  1  188660.0          0.00   \n",
       "6    7650.64        0                  1   22055.0       5000.00   \n",
       "7  116242.11        0                  3   97400.0       5977.67   \n",
       "8       0.00        0                  4  441000.0      32673.33   \n",
       "9     688.55        0                  3  105000.0          0.00   \n",
       "\n",
       "   Pasivo_desembolso  Deuda rezagada va  Deuda rezagada vr  \\\n",
       "0            5876.82            -800.65          -0.024891   \n",
       "1            4467.40           -2810.52          -0.041529   \n",
       "2            5000.92             653.68           0.003275   \n",
       "3             325.50           14820.77           0.151041   \n",
       "4               0.00           17468.60           0.137107   \n",
       "5               0.07           -6302.57          -0.044269   \n",
       "6            7650.64           -5973.05          -0.082145   \n",
       "7          116242.11            1442.01           0.019464   \n",
       "8               0.00          -73855.46          -0.293954   \n",
       "9             688.55           -2250.13          -0.045656   \n",
       "\n",
       "   pasivo rezagada va  pasivo rezagada vr  Pasivo_desembolso da  \\\n",
       "0              830.82            0.164649                830.82   \n",
       "1            -7043.43           -0.611896              -7043.43   \n",
       "2             2000.92            0.666973               2000.92   \n",
       "3           -17128.30           -0.981351             -17128.30   \n",
       "4            -2071.80           -1.000000              -2071.80   \n",
       "5                0.00            0.000000                  0.00   \n",
       "6              248.61            0.033587                248.61   \n",
       "7           -96110.34           -0.452598             -96110.34   \n",
       "8           -55000.00           -1.000000             -55000.00   \n",
       "9           -81172.46           -0.991589             -81172.46   \n",
       "\n",
       "   Pasivo_desembolso dr  \n",
       "0              0.164649  \n",
       "1             -0.611896  \n",
       "2              0.666973  \n",
       "3             -0.981351  \n",
       "4             -1.000000  \n",
       "5              0.000000  \n",
       "6              0.033587  \n",
       "7             -0.452598  \n",
       "8             -1.000000  \n",
       "9             -0.991589  "
      ]
     },
     "execution_count": 139,
     "metadata": {},
     "output_type": "execute_result"
    }
   ],
   "source": [
    "import pandas as pd\n",
    "import numpy as np\n",
    "import os\n",
    "mainpath = \"C:/Users/Camila Saenz/Downloads/TAREAS/Trabajo integrador final/\"\n",
    "filename = \"covid utf.csv\"\n",
    "fullpath = os.path.join(mainpath, filename)\n",
    "data = pd.read_csv(fullpath).drop([\"Sector\",\"Dep\"],axis=1)\n",
    "data.head(10)"
   ]
  },
  {
   "cell_type": "code",
   "execution_count": 140,
   "id": "dfc0295b",
   "metadata": {},
   "outputs": [],
   "source": [
    "data.describe()\n",
    "desc=data.describe()\n",
    "X = data.iloc[:,2:6]\n",
    "Y = data.iloc[:,6]"
   ]
  },
  {
   "cell_type": "code",
   "execution_count": 141,
   "id": "a0850c2f",
   "metadata": {},
   "outputs": [],
   "source": [
    "from sklearn.model_selection import train_test_split\n",
    "Xtrain,Xtest,Ytrain,Ytest=train_test_split(X,Y,test_size=0.2,\n",
    "                                          random_state=4)"
   ]
  },
  {
   "cell_type": "code",
   "execution_count": 142,
   "id": "491ed95c",
   "metadata": {},
   "outputs": [
    {
     "data": {
      "text/html": [
       "<div>\n",
       "<style scoped>\n",
       "    .dataframe tbody tr th:only-of-type {\n",
       "        vertical-align: middle;\n",
       "    }\n",
       "\n",
       "    .dataframe tbody tr th {\n",
       "        vertical-align: top;\n",
       "    }\n",
       "\n",
       "    .dataframe thead th {\n",
       "        text-align: right;\n",
       "    }\n",
       "</style>\n",
       "<table border=\"1\" class=\"dataframe\">\n",
       "  <thead>\n",
       "    <tr style=\"text-align: right;\">\n",
       "      <th></th>\n",
       "      <th>Desembolso_mes</th>\n",
       "      <th>Saldo Promedio</th>\n",
       "      <th>Deuda Sistea</th>\n",
       "      <th>Pasivo</th>\n",
       "    </tr>\n",
       "  </thead>\n",
       "  <tbody>\n",
       "    <tr>\n",
       "      <th>875</th>\n",
       "      <td>0.0</td>\n",
       "      <td>501549.17900</td>\n",
       "      <td>529372.50</td>\n",
       "      <td>30223.28</td>\n",
       "    </tr>\n",
       "    <tr>\n",
       "      <th>1222</th>\n",
       "      <td>0.0</td>\n",
       "      <td>45961.70732</td>\n",
       "      <td>336682.33</td>\n",
       "      <td>121290.52</td>\n",
       "    </tr>\n",
       "    <tr>\n",
       "      <th>1727</th>\n",
       "      <td>0.0</td>\n",
       "      <td>497904.72730</td>\n",
       "      <td>497635.74</td>\n",
       "      <td>2558.31</td>\n",
       "    </tr>\n",
       "    <tr>\n",
       "      <th>362</th>\n",
       "      <td>0.0</td>\n",
       "      <td>377813.75510</td>\n",
       "      <td>383011.92</td>\n",
       "      <td>163730.78</td>\n",
       "    </tr>\n",
       "    <tr>\n",
       "      <th>890</th>\n",
       "      <td>0.0</td>\n",
       "      <td>48670.20758</td>\n",
       "      <td>48773.26</td>\n",
       "      <td>651.05</td>\n",
       "    </tr>\n",
       "    <tr>\n",
       "      <th>...</th>\n",
       "      <td>...</td>\n",
       "      <td>...</td>\n",
       "      <td>...</td>\n",
       "      <td>...</td>\n",
       "    </tr>\n",
       "    <tr>\n",
       "      <th>1921</th>\n",
       "      <td>0.0</td>\n",
       "      <td>45675.21477</td>\n",
       "      <td>45941.07</td>\n",
       "      <td>1988.28</td>\n",
       "    </tr>\n",
       "    <tr>\n",
       "      <th>709</th>\n",
       "      <td>0.0</td>\n",
       "      <td>82224.11698</td>\n",
       "      <td>154027.21</td>\n",
       "      <td>2558.31</td>\n",
       "    </tr>\n",
       "    <tr>\n",
       "      <th>439</th>\n",
       "      <td>0.0</td>\n",
       "      <td>52039.76397</td>\n",
       "      <td>53451.34</td>\n",
       "      <td>2558.31</td>\n",
       "    </tr>\n",
       "    <tr>\n",
       "      <th>174</th>\n",
       "      <td>0.0</td>\n",
       "      <td>405697.85370</td>\n",
       "      <td>418590.16</td>\n",
       "      <td>31847.74</td>\n",
       "    </tr>\n",
       "    <tr>\n",
       "      <th>1146</th>\n",
       "      <td>0.0</td>\n",
       "      <td>114184.54240</td>\n",
       "      <td>112552.60</td>\n",
       "      <td>5945.50</td>\n",
       "    </tr>\n",
       "  </tbody>\n",
       "</table>\n",
       "<p>1598 rows × 4 columns</p>\n",
       "</div>"
      ],
      "text/plain": [
       "      Desembolso_mes  Saldo Promedio  Deuda Sistea     Pasivo\n",
       "875              0.0    501549.17900     529372.50   30223.28\n",
       "1222             0.0     45961.70732     336682.33  121290.52\n",
       "1727             0.0    497904.72730     497635.74    2558.31\n",
       "362              0.0    377813.75510     383011.92  163730.78\n",
       "890              0.0     48670.20758      48773.26     651.05\n",
       "...              ...             ...           ...        ...\n",
       "1921             0.0     45675.21477      45941.07    1988.28\n",
       "709              0.0     82224.11698     154027.21    2558.31\n",
       "439              0.0     52039.76397      53451.34    2558.31\n",
       "174              0.0    405697.85370     418590.16   31847.74\n",
       "1146             0.0    114184.54240     112552.60    5945.50\n",
       "\n",
       "[1598 rows x 4 columns]"
      ]
     },
     "execution_count": 142,
     "metadata": {},
     "output_type": "execute_result"
    }
   ],
   "source": [
    "Xtrain"
   ]
  },
  {
   "cell_type": "code",
   "execution_count": 143,
   "id": "974f6ec1",
   "metadata": {},
   "outputs": [
    {
     "data": {
      "text/plain": [
       "875     0\n",
       "1222    0\n",
       "1727    0\n",
       "362     0\n",
       "890     0\n",
       "       ..\n",
       "1921    0\n",
       "709     0\n",
       "439     0\n",
       "174     0\n",
       "1146    0\n",
       "Name: Turismo, Length: 1598, dtype: int64"
      ]
     },
     "execution_count": 143,
     "metadata": {},
     "output_type": "execute_result"
    }
   ],
   "source": [
    "Ytrain"
   ]
  },
  {
   "cell_type": "code",
   "execution_count": 144,
   "id": "5b5fe54f",
   "metadata": {},
   "outputs": [],
   "source": [
    "from sklearn.preprocessing import StandardScaler # Librería\n",
    "sc=StandardScaler() # Objeto\n",
    "Xtrain_sc=sc.fit_transform(Xtrain) # Entrenando y aplicando\n",
    "Xtest_sc=sc.transform(Xtest) # Aplicando en test"
   ]
  },
  {
   "cell_type": "code",
   "execution_count": 145,
   "id": "c0c14a8c",
   "metadata": {},
   "outputs": [
    {
     "data": {
      "text/plain": [
       "array([[-0.04986421,  1.51166623,  0.97299857,  0.04953778],\n",
       "       [-0.04986421, -0.5236391 ,  0.31316507,  0.88812658],\n",
       "       [-0.04986421,  1.4953849 ,  0.86432163, -0.20521392],\n",
       "       ...,\n",
       "       [-0.04986421, -0.4964858 , -0.65670949, -0.20521392],\n",
       "       [-0.04986421,  1.0834571 ,  0.59364399,  0.06449655],\n",
       "       [-0.04986421, -0.21885833, -0.45432765, -0.17402313]])"
      ]
     },
     "execution_count": 145,
     "metadata": {},
     "output_type": "execute_result"
    }
   ],
   "source": [
    "Xtrain_sc"
   ]
  },
  {
   "cell_type": "code",
   "execution_count": 146,
   "id": "5afb8dee",
   "metadata": {},
   "outputs": [
    {
     "data": {
      "text/plain": [
       "array([[-0.04986421,  0.07607998, -0.31050445, -0.2287686 ],\n",
       "       [-0.04986421, -0.40840626,  2.67874415,  0.36693028],\n",
       "       [-0.04986421, -0.6667149 , -0.46335592, -0.08876101],\n",
       "       ...,\n",
       "       [-0.04986421,  0.50078471,  0.34827168, -0.20521392],\n",
       "       [-0.04986421, -0.48136639,  0.75316932, -0.22150101],\n",
       "       [-0.04986421,  1.12349345,  2.12866546, -0.20521392]])"
      ]
     },
     "execution_count": 146,
     "metadata": {},
     "output_type": "execute_result"
    }
   ],
   "source": [
    "Xtest_sc"
   ]
  },
  {
   "cell_type": "code",
   "execution_count": 147,
   "id": "26f0d632",
   "metadata": {},
   "outputs": [],
   "source": [
    "k=2"
   ]
  },
  {
   "cell_type": "code",
   "execution_count": 148,
   "id": "f74e2a26",
   "metadata": {},
   "outputs": [],
   "source": [
    "from sklearn.decomposition import PCA # Librería\n",
    "import matplotlib.pyplot as plt\n",
    "pca=PCA(n_components=k)# Objeto\n",
    "Xtrain_pca=pca.fit_transform(Xtrain_sc) # Entrenando y aplicando\n",
    "Xtest_pca=pca.transform(Xtest_sc) # Aplicando en test"
   ]
  },
  {
   "cell_type": "code",
   "execution_count": 149,
   "id": "52d0de60",
   "metadata": {},
   "outputs": [
    {
     "data": {
      "text/plain": [
       "array([0.48147386, 0.25185949])"
      ]
     },
     "execution_count": 149,
     "metadata": {},
     "output_type": "execute_result"
    }
   ],
   "source": [
    "#% de varianza explicada\n",
    "pca.explained_variance_ratio_"
   ]
  },
  {
   "cell_type": "code",
   "execution_count": 150,
   "id": "f86e73ec",
   "metadata": {},
   "outputs": [
    {
     "data": {
      "text/plain": [
       "2"
      ]
     },
     "execution_count": 150,
     "metadata": {},
     "output_type": "execute_result"
    }
   ],
   "source": [
    "pca.n_components_"
   ]
  },
  {
   "cell_type": "code",
   "execution_count": 151,
   "id": "e6137f5b",
   "metadata": {},
   "outputs": [
    {
     "data": {
      "text/plain": [
       "4"
      ]
     },
     "execution_count": 151,
     "metadata": {},
     "output_type": "execute_result"
    }
   ],
   "source": [
    "pca.n_features_"
   ]
  },
  {
   "cell_type": "code",
   "execution_count": 152,
   "id": "6629e0a8",
   "metadata": {},
   "outputs": [
    {
     "data": {
      "text/plain": [
       "[<matplotlib.lines.Line2D at 0x1f0f6248550>]"
      ]
     },
     "execution_count": 152,
     "metadata": {},
     "output_type": "execute_result"
    },
    {
     "data": {
      "image/png": "[encoded data removed]",
      "text/plain": [
       "<Figure size 432x288 with 1 Axes>"
      ]
     },
     "metadata": {
      "needs_background": "light"
     },
     "output_type": "display_data"
    }
   ],
   "source": [
    "#Diagrama de Codo\n",
    "plt.plot(pca.explained_variance_ratio_)"
   ]
  },
  {
   "cell_type": "code",
   "execution_count": 153,
   "id": "52ca857e",
   "metadata": {},
   "outputs": [],
   "source": [
    "#Discriminante lineal\n",
    "from sklearn.discriminant_analysis import LinearDiscriminantAnalysis as LDA\n",
    "lda=LDA(n_components=1)\n",
    "Xtrain_lda=lda.fit_transform(Xtrain_sc,Ytrain)\n",
    "Xtest_lda=lda.transform(Xtest_sc)"
   ]
  },
  {
   "cell_type": "code",
   "execution_count": 154,
   "id": "1cbe67a6",
   "metadata": {},
   "outputs": [],
   "source": [
    "#kernel='linear'\n",
    "from sklearn.decomposition import KernelPCA # Librería\n",
    "kpca=KernelPCA(n_components=2,kernel='rbf') # Objeto rbf:normal \n",
    "Xtrain_kpca=kpca.fit_transform(Xtrain_sc) # Entrenando y aplicando\n",
    "Xtest_kpca=kpca.transform(Xtest_sc) # Aplicando"
   ]
  },
  {
   "cell_type": "code",
   "execution_count": 155,
   "id": "f77d222d",
   "metadata": {},
   "outputs": [],
   "source": [
    "#Regresion logistica\n",
    "from sklearn.linear_model import LogisticRegression\n",
    "logit=LogisticRegression()"
   ]
  },
  {
   "cell_type": "code",
   "execution_count": 156,
   "id": "8c6f303e",
   "metadata": {},
   "outputs": [
    {
     "name": "stdout",
     "output_type": "stream",
     "text": [
      "0.9411764705882353\n",
      "0.9475\n",
      "-0.12102496044101874\n",
      "0.1518165492471335\n"
     ]
    },
    {
     "name": "stderr",
     "output_type": "stream",
     "text": [
      "D:\\Anaconda install\\lib\\site-packages\\sklearn\\base.py:450: UserWarning: X does not have valid feature names, but LogisticRegression was fitted with feature names\n",
      "  warnings.warn(\n",
      "D:\\Anaconda install\\lib\\site-packages\\sklearn\\base.py:450: UserWarning: X does not have valid feature names, but LogisticRegression was fitted with feature names\n",
      "  warnings.warn(\n"
     ]
    }
   ],
   "source": [
    "#Data Original\n",
    "\n",
    "logit.fit(Xtrain,Ytrain) # Entrenamiento\n",
    "# Tasa de aciertos\n",
    "print(logit.score(Xtrain,Ytrain)) # Train: 94.11%\n",
    "print(logit.score(Xtest,Ytest)) # Test: 94.75%\n",
    "# Gini\n",
    "from sklearn.metrics import roc_auc_score\n",
    "print(2*roc_auc_score(Ytrain,logit.predict_proba(Xtrain_sc)[:,0])-1) # Train: -12.10%\n",
    "print(2*roc_auc_score(Ytest,logit.predict_proba(Xtest_sc)[:,0])-1) # Test: 15.18%"
   ]
  },
  {
   "cell_type": "code",
   "execution_count": 157,
   "id": "7e05a788",
   "metadata": {},
   "outputs": [
    {
     "name": "stdout",
     "output_type": "stream",
     "text": [
      "0.9430538172715894\n",
      "0.9525\n",
      "0.06397252382653851\n",
      "0.39024727172261353\n"
     ]
    }
   ],
   "source": [
    "#Componentes Principales\n",
    "\n",
    "logit.fit(Xtrain_pca,Ytrain) # Entrenamiento\n",
    "# Tasa de aciertos\n",
    "print(logit.score(Xtrain_pca,Ytrain)) # Train: 94.30%\n",
    "print(logit.score(Xtest_pca,Ytest)) # Test: 95.25%\n",
    "# Gini\n",
    "print(2*roc_auc_score(Ytrain,logit.predict_proba(Xtrain_pca)[:,1])-1) # Train:6.39%\n",
    "print(2*roc_auc_score(Ytest,logit.predict_proba(Xtest_pca)[:,1])-1) # Test: 39.02%"
   ]
  },
  {
   "cell_type": "code",
   "execution_count": 158,
   "id": "3b342ae6",
   "metadata": {},
   "outputs": [
    {
     "name": "stdout",
     "output_type": "stream",
     "text": [
      "0.9430538172715894\n",
      "0.9525\n",
      "0.1544951398965997\n",
      "0.22033430031772339\n"
     ]
    }
   ],
   "source": [
    "#Discriminante Lineal\n",
    "\n",
    "logit.fit(Xtrain_lda,Ytrain) # Entrenamiento\n",
    "# Tasa de aciertos\n",
    "print(logit.score(Xtrain_lda,Ytrain)) # Train: 94.30%\n",
    "print(logit.score(Xtest_lda,Ytest)) # Test: 95.25%\n",
    "# Gini\n",
    "print(2*roc_auc_score(Ytrain,logit.predict_proba(Xtrain_lda)[:,1])-1) # Train: 15.45%\n",
    "print(2*roc_auc_score(Ytest,logit.predict_proba(Xtest_lda)[:,1])-1) # Test: 22.03%"
   ]
  },
  {
   "cell_type": "code",
   "execution_count": 159,
   "id": "504578fe",
   "metadata": {},
   "outputs": [
    {
     "name": "stdout",
     "output_type": "stream",
     "text": [
      "0.9430538172715894\n",
      "0.9525\n",
      "0.17390638558521765\n",
      "0.04959248514988257\n"
     ]
    }
   ],
   "source": [
    "#Kernel Componentes principales\n",
    "\n",
    "logit.fit(Xtrain_kpca,Ytrain) # Entrenamiento\n",
    "# Tasa de aciertos\n",
    "print(logit.score(Xtrain_kpca,Ytrain)) # Train: 94.30%\n",
    "print(logit.score(Xtest_kpca,Ytest)) # Test: 95.25%\n",
    "# Gini\n",
    "print(2*roc_auc_score(Ytrain,logit.predict_proba(Xtrain_kpca)[:,1])-1) # Train: 17.39%\n",
    "print(2*roc_auc_score(Ytest,logit.predict_proba(Xtest_kpca)[:,1])-1) # Test: 4.95%"
   ]
  },
  {
   "cell_type": "code",
   "execution_count": null,
   "id": "6665ddf6",
   "metadata": {},
   "outputs": [],
   "source": []
  }
 ],
 "metadata": {
  "kernelspec": {
   "display_name": "Python 3 (ipykernel)",
   "language": "python",
   "name": "python3"
  },
  "language_info": {
   "codemirror_mode": {
    "name": "ipython",
    "version": 3
   },
   "file_extension": ".py",
   "mimetype": "text/x-python",
   "name": "python",
   "nbconvert_exporter": "python",
   "pygments_lexer": "ipython3",
   "version": "3.9.7"
  }
 },
 "nbformat": 4,
 "nbformat_minor": 5
}
